{
  "nbformat": 4,
  "nbformat_minor": 0,
  "metadata": {
    "colab": {
      "name": "CNN_Hyperparameters.ipynb",
      "provenance": [],
      "collapsed_sections": [
        "F6VFTDqWDyFC"
      ]
    },
    "kernelspec": {
      "name": "python3",
      "display_name": "Python 3"
    },
    "language_info": {
      "name": "python"
    },
    "accelerator": "GPU"
  },
  "cells": [
    {
      "cell_type": "code",
      "metadata": {
        "colab": {
          "base_uri": "https://localhost:8080/"
        },
        "id": "AeiNKpDH4dVQ",
        "outputId": "bdf795f2-701b-41e7-9966-2241026a941c"
      },
      "source": [
        "!pip install -q -U keras-tuner"
      ],
      "execution_count": null,
      "outputs": [
        {
          "output_type": "stream",
          "name": "stdout",
          "text": [
            "\u001b[?25l\r\u001b[K     |███▍                            | 10 kB 17.0 MB/s eta 0:00:01\r\u001b[K     |██████▊                         | 20 kB 19.1 MB/s eta 0:00:01\r\u001b[K     |██████████                      | 30 kB 15.3 MB/s eta 0:00:01\r\u001b[K     |█████████████▍                  | 40 kB 10.9 MB/s eta 0:00:01\r\u001b[K     |████████████████▊               | 51 kB 5.9 MB/s eta 0:00:01\r\u001b[K     |████████████████████            | 61 kB 5.9 MB/s eta 0:00:01\r\u001b[K     |███████████████████████▍        | 71 kB 5.5 MB/s eta 0:00:01\r\u001b[K     |██████████████████████████▊     | 81 kB 6.1 MB/s eta 0:00:01\r\u001b[K     |██████████████████████████████  | 92 kB 5.9 MB/s eta 0:00:01\r\u001b[K     |████████████████████████████████| 98 kB 2.8 MB/s \n",
            "\u001b[?25h"
          ]
        }
      ]
    },
    {
      "cell_type": "code",
      "metadata": {
        "id": "a6lOfA1Q5AUS"
      },
      "source": [
        "import tensorflow as tf\n",
        "from tensorflow.keras.datasets import cifar10\n",
        "from tensorflow import keras\n",
        "from keras.models import Sequential\n",
        "from tensorflow.keras.utils import to_categorical\n",
        "from tensorflow.keras.optimizers import SGD, Adadelta, Adam\n",
        "from tensorflow.keras.layers import Conv2D, Dense, MaxPooling2D, Flatten, Dropout\n",
        "import keras_tuner as kt"
      ],
      "execution_count": null,
      "outputs": []
    },
    {
      "cell_type": "code",
      "metadata": {
        "id": "1q18RE1EwVYv",
        "colab": {
          "base_uri": "https://localhost:8080/"
        },
        "outputId": "6eb92468-9dce-4b6b-dcfb-fb063cd2c007"
      },
      "source": [
        "(raw_x_train, raw_y_train), (raw_x_test, raw_y_test) = cifar10.load_data()"
      ],
      "execution_count": null,
      "outputs": [
        {
          "output_type": "stream",
          "name": "stdout",
          "text": [
            "Downloading data from https://www.cs.toronto.edu/~kriz/cifar-10-python.tar.gz\n",
            "170500096/170498071 [==============================] - 3s 0us/step\n",
            "170508288/170498071 [==============================] - 3s 0us/step\n"
          ]
        }
      ]
    },
    {
      "cell_type": "code",
      "metadata": {
        "id": "QLYw68Io0nDI"
      },
      "source": [
        "def rescale_data(train_x, test_x, train_y, test_y):\n",
        "    train_x = train_x.astype('float32')\n",
        "    test_x = test_x.astype('float32')\n",
        "    train_x = train_x / 255.0\n",
        "    test_x = test_x / 255.0\n",
        "    train_y = to_categorical(train_y)\n",
        "    test_y = to_categorical(test_y)\n",
        "    return (train_x, train_y), (test_x, test_y)  "
      ],
      "execution_count": null,
      "outputs": []
    },
    {
      "cell_type": "code",
      "metadata": {
        "id": "ZVD2W2EzmnZ6"
      },
      "source": [
        "def build_model(hp):\n",
        "    model = Sequential()\n",
        "    model.add(Conv2D(32, (3, 3), activation='relu', kernel_initializer='he_uniform', input_shape=(32, 32, 3)))\n",
        "    for i in range(hp.Int(\"num_layers\", 1, 5)):\n",
        "      filters = hp.Int(f\"filters_{i}\", min_value=32, max_value=256, step=32)\n",
        "      model.add(Conv2D(filters, (3, 3), activation='relu', kernel_initializer='he_uniform'))\n",
        "    model.add(MaxPooling2D((2, 2)))\n",
        "    model.add(Flatten())\n",
        "    for i in range(hp.Int(\"num_layers\", 1, 5)):\n",
        "      units = hp.Int(f\"units_{i}\", min_value=32, max_value=256, step=32)\n",
        "      model.add(Dense(units=units, activation='relu'))\n",
        "    model.add(Dropout(0.3))\n",
        "    model.add(Dense(10, activation='softmax'))\n",
        "    # compile model\n",
        "    learning_rate = hp.Float(\"lr\", min_value=1e-4, max_value=0.001, sampling=\"log\")\n",
        "    opt = Adam(learning_rate=learning_rate)\n",
        "    model.compile(optimizer=opt, loss='categorical_crossentropy', metrics=['accuracy'])\n",
        "    return model  "
      ],
      "execution_count": null,
      "outputs": []
    },
    {
      "cell_type": "code",
      "metadata": {
        "id": "ucRIpzaG2vUP"
      },
      "source": [
        "(train_x, train_y), (test_x, test_y) = rescale_data(raw_x_train, raw_x_test, raw_y_train, raw_y_test)\n",
        "model = build_model(kt.HyperParameters())"
      ],
      "execution_count": null,
      "outputs": []
    },
    {
      "cell_type": "code",
      "metadata": {
        "id": "9bDtGekyJoOF"
      },
      "source": [
        "tuner = kt.RandomSearch(\n",
        "    hypermodel=build_model,\n",
        "    objective=\"val_accuracy\",\n",
        "    max_trials=3,\n",
        "    executions_per_trial=2,\n",
        "    overwrite=True\n",
        ")"
      ],
      "execution_count": null,
      "outputs": []
    },
    {
      "cell_type": "code",
      "metadata": {
        "colab": {
          "base_uri": "https://localhost:8080/"
        },
        "id": "X6kGa2S6MHns",
        "outputId": "2c184f8e-2352-4fca-a7f7-21dc654d3d17"
      },
      "source": [
        "tuner.search_space_summary()"
      ],
      "execution_count": null,
      "outputs": [
        {
          "output_type": "stream",
          "name": "stdout",
          "text": [
            "Search space summary\n",
            "Default search space size: 4\n",
            "num_layers (Int)\n",
            "{'default': None, 'conditions': [], 'min_value': 1, 'max_value': 5, 'step': 1, 'sampling': None}\n",
            "filters_0 (Int)\n",
            "{'default': None, 'conditions': [], 'min_value': 32, 'max_value': 256, 'step': 32, 'sampling': None}\n",
            "units_0 (Int)\n",
            "{'default': None, 'conditions': [], 'min_value': 32, 'max_value': 256, 'step': 32, 'sampling': None}\n",
            "lr (Float)\n",
            "{'default': 0.0001, 'conditions': [], 'min_value': 0.0001, 'max_value': 0.001, 'step': None, 'sampling': 'log'}\n"
          ]
        }
      ]
    },
    {
      "cell_type": "code",
      "metadata": {
        "colab": {
          "base_uri": "https://localhost:8080/"
        },
        "id": "zgh9VAHRMNK3",
        "outputId": "abe2295a-3a97-4616-8820-6bc512a8ef0e"
      },
      "source": [
        "tuner.search(train_x, train_y, epochs=10, validation_data=(test_x, test_y))"
      ],
      "execution_count": null,
      "outputs": [
        {
          "output_type": "stream",
          "name": "stdout",
          "text": [
            "Trial 3 Complete [00h 08m 34s]\n",
            "val_accuracy: 0.7081499993801117\n",
            "\n",
            "Best val_accuracy So Far: 0.7081499993801117\n",
            "Total elapsed time: 00h 27m 01s\n",
            "INFO:tensorflow:Oracle triggered exit\n"
          ]
        }
      ]
    },
    {
      "cell_type": "code",
      "metadata": {
        "colab": {
          "base_uri": "https://localhost:8080/"
        },
        "id": "RAxnWjTiM73y",
        "outputId": "a41b6014-dda3-47ae-e24e-6d23ec387561"
      },
      "source": [
        "# Get the best 2 models.\n",
        "models = tuner.get_best_models(num_models=2)\n",
        "best_model = models[0]\n",
        "best_model.build(input_shape=(32, 32, 3))\n",
        "best_model.summary()"
      ],
      "execution_count": null,
      "outputs": [
        {
          "output_type": "stream",
          "name": "stdout",
          "text": [
            "Model: \"sequential\"\n",
            "_________________________________________________________________\n",
            " Layer (type)                Output Shape              Param #   \n",
            "=================================================================\n",
            " conv2d (Conv2D)             (None, 30, 30, 32)        896       \n",
            "                                                                 \n",
            " conv2d_1 (Conv2D)           (None, 28, 28, 64)        18496     \n",
            "                                                                 \n",
            " conv2d_2 (Conv2D)           (None, 26, 26, 96)        55392     \n",
            "                                                                 \n",
            " max_pooling2d (MaxPooling2D  (None, 13, 13, 96)       0         \n",
            " )                                                               \n",
            "                                                                 \n",
            " flatten (Flatten)           (None, 16224)             0         \n",
            "                                                                 \n",
            " dense (Dense)               (None, 224)               3634400   \n",
            "                                                                 \n",
            " dense_1 (Dense)             (None, 128)               28800     \n",
            "                                                                 \n",
            " dropout (Dropout)           (None, 128)               0         \n",
            "                                                                 \n",
            " dense_2 (Dense)             (None, 10)                1290      \n",
            "                                                                 \n",
            "=================================================================\n",
            "Total params: 3,739,274\n",
            "Trainable params: 3,739,274\n",
            "Non-trainable params: 0\n",
            "_________________________________________________________________\n"
          ]
        }
      ]
    },
    {
      "cell_type": "code",
      "metadata": {
        "colab": {
          "base_uri": "https://localhost:8080/"
        },
        "id": "ccK2yu9UM0K_",
        "outputId": "4af08c26-cc20-4b1f-9775-252b9da64947"
      },
      "source": [
        "tuner.results_summary()"
      ],
      "execution_count": null,
      "outputs": [
        {
          "output_type": "stream",
          "name": "stdout",
          "text": [
            "Results summary\n",
            "Results in ./untitled_project\n",
            "Showing 10 best trials\n",
            "Objective(name='val_accuracy', direction='max')\n",
            "Trial summary\n",
            "Hyperparameters:\n",
            "num_layers: 2\n",
            "filters_0: 64\n",
            "units_0: 224\n",
            "lr: 0.0003783692348881492\n",
            "filters_1: 96\n",
            "units_1: 128\n",
            "Score: 0.7081499993801117\n",
            "Trial summary\n",
            "Hyperparameters:\n",
            "num_layers: 2\n",
            "filters_0: 224\n",
            "units_0: 32\n",
            "lr: 0.0007615764539410149\n",
            "filters_1: 32\n",
            "units_1: 32\n",
            "Score: 0.696150004863739\n",
            "Trial summary\n",
            "Hyperparameters:\n",
            "num_layers: 1\n",
            "filters_0: 128\n",
            "units_0: 96\n",
            "lr: 0.0001212404390170712\n",
            "filters_1: 32\n",
            "units_1: 96\n",
            "Score: 0.6661500036716461\n"
          ]
        }
      ]
    }
  ]
}